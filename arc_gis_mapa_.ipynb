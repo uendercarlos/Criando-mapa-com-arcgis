{
  "nbformat": 4,
  "nbformat_minor": 5,
  "metadata": {
    "kernelspec": {
      "display_name": "Python 3",
      "language": "python",
      "name": "python3"
    },
    "language_info": {
      "codemirror_mode": {
        "name": "ipython",
        "version": 3
      },
      "file_extension": ".py",
      "mimetype": "text/x-python",
      "name": "python",
      "nbconvert_exporter": "python",
      "pygments_lexer": "ipython3",
      "version": "3.8.8"
    },
    "colab": {
      "name": "arc gis- mapa-.ipynb",
      "provenance": [],
      "collapsed_sections": [],
      "include_colab_link": true
    }
  },
  "cells": [
    {
      "cell_type": "markdown",
      "metadata": {
        "id": "view-in-github",
        "colab_type": "text"
      },
      "source": [
        "<a href=\"https://colab.research.google.com/github/uendercarlos/Criando-mapa-com-arcgis/blob/main/arc_gis_mapa_.ipynb\" target=\"_parent\"><img src=\"https://colab.research.google.com/assets/colab-badge.svg\" alt=\"Open In Colab\"/></a>"
      ]
    },
    {
      "cell_type": "code",
      "metadata": {
        "id": "1dfa7fcd"
      },
      "source": [
        "from arcgis.gis import GIS\n",
        "myGIS = GIS()\n",
        " \n",
        "myMap = myGIS.map(\"Ipora\")\n",
        "\n",
        "myMap\n"
      ],
      "id": "1dfa7fcd",
      "execution_count": null,
      "outputs": []
    },
    {
      "cell_type": "code",
      "metadata": {
        "id": "7b6688ff"
      },
      "source": [
        "gis = GIS()"
      ],
      "id": "7b6688ff",
      "execution_count": null,
      "outputs": []
    },
    {
      "cell_type": "code",
      "metadata": {
        "id": "20d02d85"
      },
      "source": [
        "user = gis.users.get('john.smith')"
      ],
      "id": "20d02d85",
      "execution_count": null,
      "outputs": []
    },
    {
      "cell_type": "code",
      "metadata": {
        "id": "4b73c8b1",
        "outputId": "6e8e35db-eec1-4f40-f4d9-0dea7b38733e"
      },
      "source": [
        "from arcgis.geocoding import Geocoder, get_geocoders\n",
        "get_geocoders(gis)"
      ],
      "id": "4b73c8b1",
      "execution_count": null,
      "outputs": [
        {
          "output_type": "execute_result",
          "data": {
            "text/plain": [
              "[<Geocoder url:\"https://geocode.arcgis.com/arcgis/rest/services/World/GeocodeServer\">]"
            ]
          },
          "metadata": {
            "tags": []
          },
          "execution_count": 15
        }
      ]
    },
    {
      "cell_type": "code",
      "metadata": {
        "id": "c89d9d27",
        "outputId": "9b039428-8415-4219-e675-3d703c9eba83"
      },
      "source": [
        "\n",
        "from IPython.display import display\n",
        "\n",
        "arcgis_online = GIS()\n",
        "items = arcgis_online.content.search('Geocoder', 'geocoding service', max_items=3)\n",
        "for item in items: \n",
        "    display(item)\n",
        "    \n",
        "# construct a geocoder using the first geocoding service item\n",
        "worldgeocoder = Geocoder.fromitem(items[0])\n",
        "worldgeocoder  "
      ],
      "id": "c89d9d27",
      "execution_count": null,
      "outputs": [
        {
          "output_type": "display_data",
          "data": {
            "text/html": [
              "<div class=\"item_container\" style=\"height: auto; overflow: hidden; border: 1px solid #cfcfcf; border-radius: 2px; background: #f6fafa; line-height: 1.21429em; padding: 10px;\">\n",
              "                    <div class=\"item_left\" style=\"width: 210px; float: left;\">\n",
              "                       <a href='https://www.arcgis.com/home/item.html?id=7cd12a63fd5047a2994f20c851f283dd' target='_blank'>\n",
              "                        <img src='https://www.arcgis.com/sharing/rest//content/items/7cd12a63fd5047a2994f20c851f283dd/info/thumbnail/thumbnail.png' class=\"itemThumbnail\">\n",
              "                       </a>\n",
              "                    </div>\n",
              "\n",
              "                    <div class=\"item_right\"     style=\"float: none; width: auto; overflow: hidden;\">\n",
              "                        <a href='https://www.arcgis.com/home/item.html?id=7cd12a63fd5047a2994f20c851f283dd' target='_blank'><b>Esri Nederland BAG Geocoder</b>\n",
              "                        </a>\n",
              "                        <br/>Met de Esri Nederland BAG Geocoder zoekt u naar adressen en plaatsen gebaseerd op de Basisregistratie Adressen en Gebouwen.<img src='https://www.arcgis.com/home/js/jsapi/esri/css/images/item_type_icons/layers16.png' style=\"vertical-align:middle;\">Geocoding Layer by Esri_NL_Content\n",
              "                        <br/>Last Modified: abril 23, 2021\n",
              "                        <br/>0 comments, 1.828 views\n",
              "                    </div>\n",
              "                </div>\n",
              "                "
            ],
            "text/plain": [
              "<Item title:\"Esri Nederland BAG Geocoder\" type:Geocoding Layer owner:Esri_NL_Content>"
            ]
          },
          "metadata": {
            "tags": []
          }
        },
        {
          "output_type": "display_data",
          "data": {
            "text/html": [
              "<div class=\"item_container\" style=\"height: auto; overflow: hidden; border: 1px solid #cfcfcf; border-radius: 2px; background: #f6fafa; line-height: 1.21429em; padding: 10px;\">\n",
              "                    <div class=\"item_left\" style=\"width: 210px; float: left;\">\n",
              "                       <a href='https://www.arcgis.com/home/item.html?id=305f2e55e67f4389bef269669fc2e284' target='_blank'>\n",
              "                        <img src='https://www.arcgis.com/sharing/rest//content/items/305f2e55e67f4389bef269669fc2e284/info/thumbnail/geocoding_world.jpg' class=\"itemThumbnail\">\n",
              "                       </a>\n",
              "                    </div>\n",
              "\n",
              "                    <div class=\"item_right\"     style=\"float: none; width: auto; overflow: hidden;\">\n",
              "                        <a href='https://www.arcgis.com/home/item.html?id=305f2e55e67f4389bef269669fc2e284' target='_blank'><b>World Geocoding</b>\n",
              "                        </a>\n",
              "                        <br/>The World Geocoding Service finds addresses and places in all supported countries around the world in a single geocoding service.<img src='https://www.arcgis.com/home/js/jsapi/esri/css/images/item_type_icons/layers16.png' style=\"vertical-align:middle;\">Geocoding Layer by esri\n",
              "                        <br/>Last Modified: agosto 20, 2020\n",
              "                        <br/>0 comments, 48.794 views\n",
              "                    </div>\n",
              "                </div>\n",
              "                "
            ],
            "text/plain": [
              "<Item title:\"World Geocoding\" type:Geocoding Layer owner:esri>"
            ]
          },
          "metadata": {
            "tags": []
          }
        },
        {
          "output_type": "display_data",
          "data": {
            "text/html": [
              "<div class=\"item_container\" style=\"height: auto; overflow: hidden; border: 1px solid #cfcfcf; border-radius: 2px; background: #f6fafa; line-height: 1.21429em; padding: 10px;\">\n",
              "                    <div class=\"item_left\" style=\"width: 210px; float: left;\">\n",
              "                       <a href='https://www.arcgis.com/home/item.html?id=60a8871933e44a249ca71bb13c2d823d' target='_blank'>\n",
              "                        <img src='https://www.arcgis.com/sharing/rest//content/items/60a8871933e44a249ca71bb13c2d823d/info/thumbnail/thumbnail1578500276988.png' class=\"itemThumbnail\">\n",
              "                       </a>\n",
              "                    </div>\n",
              "\n",
              "                    <div class=\"item_right\"     style=\"float: none; width: auto; overflow: hidden;\">\n",
              "                        <a href='https://www.arcgis.com/home/item.html?id=60a8871933e44a249ca71bb13c2d823d' target='_blank'><b>Vue France du service de géocodage mondial d'ArcGIS</b>\n",
              "                        </a>\n",
              "                        <br/>Localisateur (vue) issu du service de géocodage mondial d'ArcGIS, extrait sur la France métropolitaine<img src='https://www.arcgis.com/home/js/jsapi/esri/css/images/item_type_icons/layers16.png' style=\"vertical-align:middle;\">Geocoding Layer by rgarnier_esrifrance\n",
              "                        <br/>Last Modified: março 25, 2020\n",
              "                        <br/>0 comments, 0 views\n",
              "                    </div>\n",
              "                </div>\n",
              "                "
            ],
            "text/plain": [
              "<Item title:\"Vue France du service de géocodage mondial d'ArcGIS\" type:Geocoding Layer owner:rgarnier_esrifrance>"
            ]
          },
          "metadata": {
            "tags": []
          }
        },
        {
          "output_type": "execute_result",
          "data": {
            "text/plain": [
              "<Geocoder url:\"https://geocoder.arcgisonline.nl/arcgis/rest/services/Geocoder_BAG_RD/GeocodeServer\">"
            ]
          },
          "metadata": {
            "tags": []
          },
          "execution_count": 16
        }
      ]
    },
    {
      "cell_type": "code",
      "metadata": {
        "id": "b07ba1ec"
      },
      "source": [
        "from arcgis.geocoding import geocode"
      ],
      "id": "b07ba1ec",
      "execution_count": null,
      "outputs": []
    },
    {
      "cell_type": "code",
      "metadata": {
        "id": "3155daad",
        "outputId": "827e1924-acee-4ffc-e036-0fd626f3e25c"
      },
      "source": [
        "results = geocode('New York St, Redlands, CA')\n",
        "# query the first matched result\n",
        "results[0]['location']"
      ],
      "id": "3155daad",
      "execution_count": null,
      "outputs": [
        {
          "output_type": "execute_result",
          "data": {
            "text/plain": [
              "{'x': -117.19554992262067, 'y': 34.06455839302498}"
            ]
          },
          "metadata": {
            "tags": []
          },
          "execution_count": 3
        }
      ]
    },
    {
      "cell_type": "code",
      "metadata": {
        "id": "a351eb7f"
      },
      "source": [
        "g1.properties"
      ],
      "id": "a351eb7f",
      "execution_count": null,
      "outputs": []
    }
  ]
}